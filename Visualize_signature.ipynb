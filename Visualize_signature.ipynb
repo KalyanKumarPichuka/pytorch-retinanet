{
 "cells": [
  {
   "cell_type": "code",
   "execution_count": 19,
   "metadata": {},
   "outputs": [],
   "source": [
    "# importing cv2  \n",
    "import cv2  "
   ]
  },
  {
   "cell_type": "code",
   "execution_count": 20,
   "metadata": {},
   "outputs": [],
   "source": [
    "# path  \n",
    "#path = r'/home/kalyan/Documents/MeetUp_Projects/pytorch-retinanet/pytorch-retinanet/data/images/r0089_01.png'\n",
    "#path = r'r0089_01.png'\n",
    "path = r'W2_XL_input_noisy_2370.jpg'"
   ]
  },
  {
   "cell_type": "code",
   "execution_count": 21,
   "metadata": {},
   "outputs": [],
   "source": [
    "# Reading an image in default mode \n",
    "image = cv2.imread(path) "
   ]
  },
  {
   "cell_type": "code",
   "execution_count": 22,
   "metadata": {},
   "outputs": [],
   "source": [
    "# Window name in which image is displayed \n",
    "window_name = 'Image'"
   ]
  },
  {
   "cell_type": "code",
   "execution_count": 23,
   "metadata": {},
   "outputs": [],
   "source": [
    "# Start coordinate, here (5, 5) \n",
    "# represents the top left corner of rectangle \n",
    "start_point = (935, 165)"
   ]
  },
  {
   "cell_type": "code",
   "execution_count": 24,
   "metadata": {},
   "outputs": [],
   "source": [
    "# Ending coordinate, here (220, 220) \n",
    "# represents the bottom right corner of rectangle \n",
    "end_point = (935+210, 165+85)"
   ]
  },
  {
   "cell_type": "code",
   "execution_count": 25,
   "metadata": {},
   "outputs": [],
   "source": [
    "# Blue color in BGR \n",
    "color = (255, 0, 0) "
   ]
  },
  {
   "cell_type": "code",
   "execution_count": 26,
   "metadata": {},
   "outputs": [],
   "source": [
    "# Line thickness of 2 px \n",
    "thickness = 2"
   ]
  },
  {
   "cell_type": "code",
   "execution_count": 27,
   "metadata": {},
   "outputs": [],
   "source": [
    "# Using cv2.rectangle() method \n",
    "# Draw a rectangle with blue line borders of thickness of 2 px \n",
    "image = cv2.rectangle(image, start_point, end_point, color, thickness) "
   ]
  },
  {
   "cell_type": "code",
   "execution_count": 28,
   "metadata": {},
   "outputs": [],
   "source": [
    "# Displaying the image \n",
    "imS = cv2.resize(image, (1024, 780))\n",
    "#cv2.imshow(window_name, image)\n",
    "cv2.imshow(window_name, imS)\n",
    "cv2.waitKey(0)\n",
    "cv2.destroyAllWindows()"
   ]
  },
  {
   "cell_type": "code",
   "execution_count": null,
   "metadata": {},
   "outputs": [],
   "source": [
    "#category_id = 2 ==> Employee address\n",
    "#category_id = 3 ==> Wages"
   ]
  }
 ],
 "metadata": {
  "kernelspec": {
   "display_name": "Python 3",
   "language": "python",
   "name": "python3"
  },
  "language_info": {
   "codemirror_mode": {
    "name": "ipython",
    "version": 3
   },
   "file_extension": ".py",
   "mimetype": "text/x-python",
   "name": "python",
   "nbconvert_exporter": "python",
   "pygments_lexer": "ipython3",
   "version": "3.8.2"
  }
 },
 "nbformat": 4,
 "nbformat_minor": 4
}
